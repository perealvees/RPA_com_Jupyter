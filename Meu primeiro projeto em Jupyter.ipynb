{
 "cells": [
  {
   "cell_type": "code",
   "execution_count": 13,
   "id": "c611938a",
   "metadata": {},
   "outputs": [],
   "source": [
    "from selenium import webdriver\n",
    "\n",
    "navegador =  webdriver.Chrome()\n",
    "\n",
    "navegador.get(\"https://votorantim.service-now.com/nav_to.do?uri=%2F$pa_dashboard.do%3Fsysparm_dashboard%3D58c074a51b6120947fcf0d8fe54bcb5a%26sysparm_tab%3D9633c9681b922018304a0f60f54bcb07%26sysparm_cancelable%3Dtrue%26sysparm_editable%3Dundefined%26sysparm_active_panel%3Dfalse\")\n",
    "navegador.get(\"https://votorantim.service-now.com/nav_to.do?uri=%2Fx_visa_csc_coe_catalog_base_task_list.do%3Fsysparm_fixed_query%3D%26sysparm_query%3Dassigned_to%253Dea22d0af1b89bc50cf4d20afe54bcb5a%255Estate%253D101%255EORstate%253D102%255EORstate%253D2%26sysparm_clear_stack%3Dtrue\")"
   ]
  },
  {
   "cell_type": "code",
   "execution_count": null,
   "id": "18a0da21",
   "metadata": {},
   "outputs": [],
   "source": []
  }
 ],
 "metadata": {
  "kernelspec": {
   "display_name": "Python 3",
   "language": "python",
   "name": "python3"
  },
  "language_info": {
   "codemirror_mode": {
    "name": "ipython",
    "version": 3
   },
   "file_extension": ".py",
   "mimetype": "text/x-python",
   "name": "python",
   "nbconvert_exporter": "python",
   "pygments_lexer": "ipython3",
   "version": "3.8.8"
  }
 },
 "nbformat": 4,
 "nbformat_minor": 5
}
